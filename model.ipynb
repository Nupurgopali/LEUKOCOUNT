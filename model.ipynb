{
 "cells": [
  {
   "cell_type": "code",
   "execution_count": 1,
   "metadata": {},
   "outputs": [],
   "source": [
    "#importing all the needed libraries\n",
    "import pandas\n",
    "import cv2\n",
    "import tensorflow as tf\n",
    "import matplotlib.pyplot as plt\n",
    "from tensorflow import keras\n",
    "from keras.models import Sequential\n",
    "from keras.layers import Conv2D, MaxPooling2D\n",
    "from keras.layers import Activation, Dropout, Flatten, Dense,GlobalAveragePooling2D,LeakyReLU\n",
    "\n",
    "from keras.applications.vgg19 import VGG19\n",
    "\n",
    "from keras.preprocessing.image import ImageDataGenerator, img_to_array, load_img \n",
    "import math\n",
    "import numpy as np\n",
    "from keras import optimizers\n",
    "from keras.applications import VGG19\n",
    "from keras.utils import to_categorical\n",
    "from keras.models import load_model\n",
    "from sklearn import metrics\n",
    "from sklearn.metrics import confusion_matrix"
   ]
  },
  {
   "cell_type": "code",
   "execution_count": 2,
   "metadata": {},
   "outputs": [],
   "source": [
    "#setting the training and testing path\n",
    "TRAIN_PATH=r'C:\\Users\\nupur\\Desktop\\cells\\dataset2-master\\dataset2-master\\images\\TRAIN'\n",
    "TEST_PATH=r'C:\\Users\\nupur\\Desktop\\cells\\dataset2-master\\dataset2-master\\images\\VALIDATION'"
   ]
  },
  {
   "cell_type": "code",
   "execution_count": 72,
   "metadata": {},
   "outputs": [],
   "source": [
    "#initialising the model\n",
    "model = tf.keras.applications.VGG19(include_top=False, weights='imagenet',input_shape=(150,150,3))"
   ]
  },
  {
   "cell_type": "code",
   "execution_count": 41,
   "metadata": {},
   "outputs": [],
   "source": [
    "#resizing the data and declaring the batch size\n",
    "datagen = ImageDataGenerator(rescale=1. / 255)\n",
    "batch_size=50"
   ]
  },
  {
   "cell_type": "code",
   "execution_count": 42,
   "metadata": {},
   "outputs": [],
   "source": [
    "#loading the data from the directory\n",
    "def get_data():\n",
    "    X= datagen.flow_from_directory(\n",
    "        TRAIN_PATH,\n",
    "        target_size=(150, 150),\n",
    "        batch_size=batch_size,classes=['EOSINOPHIL','LYMPHOCYTE','MONOCYTE','NEUTROPHIL'],\n",
    "        class_mode='categorical',\n",
    "        shuffle=False)\n",
    "    y= datagen.flow_from_directory(\n",
    "        TEST_PATH,\n",
    "        target_size=(150, 150),\n",
    "        batch_size=batch_size,classes=['EOSINOPHIL','LYMPHOCYTE','MONOCYTE','NEUTROPHIL'],\n",
    "        class_mode='categorical',\n",
    "        \n",
    "        shuffle=False)\n",
    "\n",
    "    return X,y"
   ]
  },
  {
   "cell_type": "code",
   "execution_count": 43,
   "metadata": {},
   "outputs": [
    {
     "name": "stdout",
     "output_type": "stream",
     "text": [
      "Found 14300 images belonging to 4 classes.\n",
      "Found 71 images belonging to 4 classes.\n"
     ]
    }
   ],
   "source": [
    "#getting the test and train data\n",
    "X_train,y_test=get_data()"
   ]
  },
  {
   "cell_type": "code",
   "execution_count": 28,
   "metadata": {},
   "outputs": [],
   "source": [
    "#Saving the training images with a prediction batch_size= total_samples/batch_Size\n",
    "\n",
    "nb_train_samples = len(X_train.filenames) \n",
    "num_classes = len(X_train.class_indices)\n",
    "#print(nb_train_samples,num_classes)\n",
    "predict_size_train = int(math.ceil(nb_train_samples / batch_size))\n",
    "#print(predict_size_train)\n",
    "bottleneck_features_train = model.predict_generator(X_train,predict_size_train)\n",
    "np.save(r'C:\\Users\\nupur\\Desktop\\cells\\dataset2-master\\dataset2-master\\bottleneck_features_train.npy', bottleneck_features_train)"
   ]
  },
  {
   "cell_type": "code",
   "execution_count": 149,
   "metadata": {},
   "outputs": [
    {
     "name": "stdout",
     "output_type": "stream",
     "text": [
      "71 4\n"
     ]
    }
   ],
   "source": [
    "#Saving the test images with a prediction batch_size= total_samples/batch_Size\n",
    "\n",
    "nb_test_samples = len(y_test.filenames) \n",
    "num_classes = len(y_test.class_indices)\n",
    "#print(nb_test_samples,num_classes)\n",
    "predict_size_test = int(math.ceil(nb_test_samples / batch_size))\n",
    "bottleneck_features_test = model.predict_generator(y_test,predict_size_test)\n",
    "np.save(r'C:\\Users\\nupur\\Desktop\\cells\\dataset2-master\\dataset2-master\\bottleneck_features_validation.npy', bottleneck_features_test)"
   ]
  },
  {
   "cell_type": "code",
   "execution_count": 44,
   "metadata": {},
   "outputs": [],
   "source": [
    "#Loading both test and training dataset\n",
    "train_data = np.load(r'C:\\Users\\nupur\\Desktop\\cells\\dataset2-master\\dataset2-master\\bottleneck_features_train.npy')\n",
    "test_data = np.load(r'C:\\Users\\nupur\\Desktop\\cells\\dataset2-master\\dataset2-master\\bottleneck_features_validation.npy')"
   ]
  },
  {
   "cell_type": "code",
   "execution_count": 45,
   "metadata": {},
   "outputs": [],
   "source": [
    "\"\"\"Counting different number of classes in the training set(this number will act as total number of nodes for the last layer \n",
    "in our VGG19 architecture), then converting the trianing and testing labels to categorical i.e. converting the input\n",
    "vector which has integers representing various classes in the data to a matrix of binary values It has number of rows equal to \n",
    "the length of the input vector and number of columns equal to the number of classes.\"\"\"\n",
    "\n",
    "num_classes = len(X_train.class_indices) \n",
    "train_target = to_categorical(X_train.labels)\n",
    "test_target=to_categorical(y_test.labels)"
   ]
  },
  {
   "cell_type": "code",
   "execution_count": 68,
   "metadata": {},
   "outputs": [],
   "source": [
    "#Used tranfer learning(VGG19 network) and modified the last layer of the architecture to fit the model.\n",
    "class Model:\n",
    "    def __init__(self, classes, optimizer):\n",
    "        self.classes = classes\n",
    "        self.optimizer = optimizer\n",
    "    def build_model(self):\n",
    "        model=Sequential()\n",
    "        #model.add(GlobalAveragePooling2D())\n",
    "        model.add(Flatten(input_shape=train_data.shape[1:]))\n",
    "        model.add(Dense(self.classes, activation='softmax'))\n",
    "        model.compile(loss='categorical_crossentropy',optimizer=self.optimizer,metrics=['acc'])\n",
    "        print(model.summary())\n",
    "        return model\n",
    "        "
   ]
  },
  {
   "cell_type": "code",
   "execution_count": 69,
   "metadata": {},
   "outputs": [
    {
     "name": "stdout",
     "output_type": "stream",
     "text": [
      "Model: \"sequential_14\"\n",
      "_________________________________________________________________\n",
      "Layer (type)                 Output Shape              Param #   \n",
      "=================================================================\n",
      "flatten_14 (Flatten)         (None, 8192)              0         \n",
      "_________________________________________________________________\n",
      "dense_13 (Dense)             (None, 4)                 32772     \n",
      "=================================================================\n",
      "Total params: 32,772\n",
      "Trainable params: 32,772\n",
      "Non-trainable params: 0\n",
      "_________________________________________________________________\n",
      "None\n"
     ]
    }
   ],
   "source": [
    "#created object of the class and got the build model\n",
    "m=Model(num_classes,'adam')\n",
    "model=m.build_model()\n"
   ]
  },
  {
   "cell_type": "code",
   "execution_count": 67,
   "metadata": {},
   "outputs": [
    {
     "name": "stdout",
     "output_type": "stream",
     "text": [
      "Epoch 1/40\n",
      "286/286 [==============================] - 1s 2ms/step - loss: 0.9724 - acc: 0.6137\n",
      "Epoch 2/40\n",
      "286/286 [==============================] - 1s 2ms/step - loss: 0.6344 - acc: 0.7858\n",
      "Epoch 3/40\n",
      "286/286 [==============================] - 1s 2ms/step - loss: 0.5221 - acc: 0.8241\n",
      "Epoch 4/40\n",
      "286/286 [==============================] - 1s 2ms/step - loss: 0.4378 - acc: 0.8614\n",
      "Epoch 5/40\n",
      "286/286 [==============================] - 1s 2ms/step - loss: 0.3796 - acc: 0.8826\n",
      "Epoch 6/40\n",
      "286/286 [==============================] - 1s 2ms/step - loss: 0.3415 - acc: 0.8972\n",
      "Epoch 7/40\n",
      "286/286 [==============================] - 1s 2ms/step - loss: 0.3026 - acc: 0.9118\n",
      "Epoch 8/40\n",
      "286/286 [==============================] - 1s 2ms/step - loss: 0.2798 - acc: 0.9201\n",
      "Epoch 9/40\n",
      "286/286 [==============================] - 1s 2ms/step - loss: 0.2619 - acc: 0.9229\n",
      "Epoch 10/40\n",
      "286/286 [==============================] - 1s 2ms/step - loss: 0.2386 - acc: 0.9348\n",
      "Epoch 11/40\n",
      "286/286 [==============================] - 1s 2ms/step - loss: 0.2210 - acc: 0.9404\n",
      "Epoch 12/40\n",
      "286/286 [==============================] - 1s 2ms/step - loss: 0.1991 - acc: 0.9484\n",
      "Epoch 13/40\n",
      "286/286 [==============================] - 1s 2ms/step - loss: 0.1953 - acc: 0.9472\n",
      "Epoch 14/40\n",
      "286/286 [==============================] - 1s 2ms/step - loss: 0.1742 - acc: 0.9580\n",
      "Epoch 15/40\n",
      "286/286 [==============================] - 1s 2ms/step - loss: 0.1728 - acc: 0.9563\n",
      "Epoch 16/40\n",
      "286/286 [==============================] - 1s 2ms/step - loss: 0.1574 - acc: 0.9610\n",
      "Epoch 17/40\n",
      "286/286 [==============================] - 1s 2ms/step - loss: 0.1494 - acc: 0.9641\n",
      "Epoch 18/40\n",
      "286/286 [==============================] - 1s 2ms/step - loss: 0.1376 - acc: 0.9690\n",
      "Epoch 19/40\n",
      "286/286 [==============================] - 1s 2ms/step - loss: 0.1291 - acc: 0.9724\n",
      "Epoch 20/40\n",
      "286/286 [==============================] - 1s 2ms/step - loss: 0.1268 - acc: 0.9722\n",
      "Epoch 21/40\n",
      "286/286 [==============================] - 1s 2ms/step - loss: 0.1200 - acc: 0.9743\n",
      "Epoch 22/40\n",
      "286/286 [==============================] - 1s 2ms/step - loss: 0.1118 - acc: 0.9785\n",
      "Epoch 23/40\n",
      "286/286 [==============================] - 1s 2ms/step - loss: 0.1047 - acc: 0.9805\n",
      "Epoch 24/40\n",
      "286/286 [==============================] - 1s 2ms/step - loss: 0.0986 - acc: 0.9821\n",
      "Epoch 25/40\n",
      "286/286 [==============================] - 1s 2ms/step - loss: 0.0947 - acc: 0.9834\n",
      "Epoch 26/40\n",
      "286/286 [==============================] - 1s 2ms/step - loss: 0.0919 - acc: 0.9831\n",
      "Epoch 27/40\n",
      "286/286 [==============================] - 1s 2ms/step - loss: 0.0862 - acc: 0.9838\n",
      "Epoch 28/40\n",
      "286/286 [==============================] - 1s 2ms/step - loss: 0.0852 - acc: 0.9841\n",
      "Epoch 29/40\n",
      "286/286 [==============================] - 1s 2ms/step - loss: 0.0770 - acc: 0.9886\n",
      "Epoch 30/40\n",
      "286/286 [==============================] - 1s 2ms/step - loss: 0.0737 - acc: 0.9882\n",
      "Epoch 31/40\n",
      "286/286 [==============================] - 1s 2ms/step - loss: 0.0680 - acc: 0.9916\n",
      "Epoch 32/40\n",
      "286/286 [==============================] - 1s 2ms/step - loss: 0.0643 - acc: 0.9920\n",
      "Epoch 33/40\n",
      "286/286 [==============================] - 1s 2ms/step - loss: 0.0641 - acc: 0.9906\n",
      "Epoch 34/40\n",
      "286/286 [==============================] - 1s 2ms/step - loss: 0.0624 - acc: 0.9914\n",
      "Epoch 35/40\n",
      "286/286 [==============================] - 1s 2ms/step - loss: 0.0568 - acc: 0.9929\n",
      "Epoch 36/40\n",
      "286/286 [==============================] - 1s 2ms/step - loss: 0.0539 - acc: 0.9949\n",
      "Epoch 37/40\n",
      "286/286 [==============================] - 1s 2ms/step - loss: 0.0533 - acc: 0.9943\n",
      "Epoch 38/40\n",
      "286/286 [==============================] - 1s 2ms/step - loss: 0.0498 - acc: 0.9950\n",
      "Epoch 39/40\n",
      "286/286 [==============================] - 1s 2ms/step - loss: 0.0476 - acc: 0.9958\n",
      "Epoch 40/40\n",
      "286/286 [==============================] - 1s 2ms/step - loss: 0.0457 - acc: 0.9962\n"
     ]
    }
   ],
   "source": [
    "#fit the training data and it's label to the model\n",
    "history = model.fit(train_data,train_target,epochs=40,batch_size=batch_size)"
   ]
  },
  {
   "cell_type": "code",
   "execution_count": 59,
   "metadata": {},
   "outputs": [],
   "source": [
    "#save the best model\n",
    "save_model_vgg2=model.save(r'C:\\Users\\nupur\\Desktop\\cells\\dataset2-master\\dataset2-master\\savemodelvgg19.h5')"
   ]
  },
  {
   "cell_type": "code",
   "execution_count": 89,
   "metadata": {},
   "outputs": [],
   "source": [
    "#load the saved model\n",
    "loadmodel=load_model(r'C:\\Users\\nupur\\Desktop\\cells\\dataset2-master\\dataset2-master\\savemodelvgg19.h5')"
   ]
  },
  {
   "cell_type": "code",
   "execution_count": 90,
   "metadata": {},
   "outputs": [],
   "source": [
    "#function will return the test accuracy,when test label and data are given as input\n",
    "def prediction():\n",
    "    pred=loadmodel.evaluate(test_data,test_target,batch_size=50)\n",
    "    return pred"
   ]
  },
  {
   "cell_type": "code",
   "execution_count": 91,
   "metadata": {},
   "outputs": [
    {
     "name": "stdout",
     "output_type": "stream",
     "text": [
      "2/2 [==============================] - 0s 498us/step - loss: 0.2786 - acc: 0.9155\n"
     ]
    },
    {
     "data": {
      "text/plain": [
       "[0.27862170338630676, 0.9154929518699646]"
      ]
     },
     "execution_count": 91,
     "metadata": {},
     "output_type": "execute_result"
    }
   ],
   "source": [
    "#calling the prediction funciton\n",
    "prediction()"
   ]
  },
  {
   "cell_type": "code",
   "execution_count": 15,
   "metadata": {},
   "outputs": [],
   "source": [
    "#modfying the prediciton in order to get the classification report and analysis how well the model is performing on test data\n",
    "pred=np.round(loadmodel.predict(test_data),0)"
   ]
  },
  {
   "cell_type": "code",
   "execution_count": 16,
   "metadata": {},
   "outputs": [
    {
     "name": "stdout",
     "output_type": "stream",
     "text": [
      "              precision    recall  f1-score   support\n",
      "\n",
      "  EOSINOPHIL       0.76      1.00      0.87        13\n",
      "  LYMPHOCYTE       0.71      0.83      0.77         6\n",
      "    MONOCYTE       1.00      1.00      1.00         4\n",
      "  NEUTROPHIL       1.00      0.90      0.95        48\n",
      "\n",
      "   micro avg       0.92      0.92      0.92        71\n",
      "   macro avg       0.87      0.93      0.90        71\n",
      "weighted avg       0.93      0.92      0.92        71\n",
      " samples avg       0.92      0.92      0.92        71\n",
      "\n"
     ]
    }
   ],
   "source": [
    "#printing the classification report\n",
    "cells=['EOSINOPHIL','LYMPHOCYTE','MONOCYTE','NEUTROPHIL']\n",
    "m=metrics.classification_report(test_target,pred,target_names=cells)\n",
    "print(m)"
   ]
  },
  {
   "cell_type": "code",
   "execution_count": 125,
   "metadata": {},
   "outputs": [],
   "source": [
    "eos=lymph=mono=neutro=0"
   ]
  },
  {
   "cell_type": "code",
   "execution_count": 86,
   "metadata": {},
   "outputs": [],
   "source": [
    "#getting prediction on a single image \n",
    "def single_pred(path):\n",
    "    image=load_img(path,target_size=(150,150))\n",
    "    image=img_to_array(image)\n",
    "    image = np.expand_dims(image, axis=0)\n",
    "    image/=255\n",
    "    classes=['EOSINOPHIL','LYMPHOCYTE','MONOCYTE','NEUTROPHIL']\n",
    "    bt_prediction = model.predict(image) \n",
    "    singlepred = loadmodel.predict_classes(bt_prediction)\n",
    "    graph(classes[int(singlepred)])\n",
    "    return classes[int(singlepred)]"
   ]
  },
  {
   "cell_type": "code",
   "execution_count": 77,
   "metadata": {},
   "outputs": [],
   "source": [
    "#when input is multiple images return a graph indicating the total number of different types of WBc's found in the blood sample\n",
    "eos=lymph=mono=neutro=0\n",
    "def graph(type_cell):\n",
    "    global eos,lymph,mono,neutro\n",
    "    classes=['EOSINOPHIL','LYMPHOCYTE','MONOCYTE','NEUTROPHIL']\n",
    "    my_colors = ['r','g','b','c']\n",
    "    #print(type_cell)\n",
    "    for path in type_cell:\n",
    "        #print(path)\n",
    "        image=load_img(path,target_size=(150,150))\n",
    "        image=img_to_array(image)\n",
    "        image = np.expand_dims(image, axis=0)\n",
    "        image/=255.\n",
    "        bt_prediction = model.predict(image) \n",
    "        singlepred = loadmodel.predict_classes(bt_prediction)\n",
    "        #print(classes[int(singlepred)])\n",
    "        if(classes[int(singlepred)]=='EOSINOPHIL'):\n",
    "            eos=eos+1\n",
    "        elif(classes[int(singlepred)]=='LYMPHOCYTE'):\n",
    "            lymph=lymph+1\n",
    "        elif(classes[int(singlepred)]=='MONOCYTE'):\n",
    "            mono=mono+1\n",
    "        else:\n",
    "            neutro=neutro+1\n",
    "    val=[eos,lymph,mono,neutro]\n",
    "    bars=plt.bar(classes,val,color=my_colors,width=0.3)\n",
    "    for bar in bars:\n",
    "        yval = bar.get_height()\n",
    "        plt.text(bar.get_x()+0.10, yval + .005, yval)\n",
    "    \n",
    "    plt.xlabel('Types of cell')\n",
    "    plt.ylabel('Count')\n",
    "    return plt.show()"
   ]
  },
  {
   "cell_type": "code",
   "execution_count": 78,
   "metadata": {},
   "outputs": [
    {
     "data": {
      "image/png": "[encoded data removed]",
      "text/plain": [
       "<Figure size 432x288 with 1 Axes>"
      ]
     },
     "metadata": {
      "needs_background": "light"
     },
     "output_type": "display_data"
    }
   ],
   "source": [
    "#input for the graph function is list of the paths of input images\n",
    "cell_path=[r'C:\\Users\\nupur\\Desktop\\cells\\dataset2-master\\dataset2-master\\images\\_16_6767.jpeg',r'C:\\Users\\nupur\\Desktop\\cells\\dataset2-master\\dataset2-master\\images\\_0_771.jpeg',\n",
    "          r'C:\\Users\\nupur\\Desktop\\cells\\dataset2-master\\dataset2-master\\images\\_0_196.jpeg',\n",
    "           r'C:\\Users\\nupur\\Desktop\\cells\\dataset2-master\\dataset2-master\\images\\_0_1381.jpeg', r'C:\\Users\\nupur\\Desktop\\cells\\dataset2-master\\dataset2-master\\images\\_0_1854.jpeg',\n",
    "            r'C:\\Users\\nupur\\Desktop\\cells\\dataset2-master\\dataset2-master\\images\\_5_231.jpeg']\n",
    "graph(cell_path)"
   ]
  },
  {
   "cell_type": "code",
   "execution_count": 84,
   "metadata": {},
   "outputs": [],
   "source": [
    "classes=['EOSINOPHIL','LYMPHOCYTE','MONOCYTE','NEUTROPHIL']"
   ]
  },
  {
   "cell_type": "code",
   "execution_count": 85,
   "metadata": {},
   "outputs": [],
   "source": [
    "#confusion matrix to understand the performance of the classifcation model\n",
    "import numpy as np\n",
    "import matplotlib.pyplot as plt\n",
    "import seaborn as sns\n",
    "\n",
    "def make_confusion_matrix(cf,\n",
    "                          group_names=None,\n",
    "                          categories='auto',\n",
    "                          count=True,\n",
    "                          percent=True,\n",
    "                          cbar=True,\n",
    "                          xyticks=True,\n",
    "                          xyplotlabels=True,\n",
    "                          sum_stats=True,\n",
    "                          figsize=None,\n",
    "                          cmap='Blues',\n",
    "                          title=None):\n",
    "    '''\n",
    "    This function will make a pretty plot of an sklearn Confusion Matrix cm using a Seaborn heatmap visualization.\n",
    "    Arguments\n",
    "    ---------\n",
    "    cf:            confusion matrix to be passed in\n",
    "    group_names:   List of strings that represent the labels row by row to be shown in each square.\n",
    "    categories:    List of strings containing the categories to be displayed on the x,y axis. Default is 'auto'\n",
    "    count:         If True, show the raw number in the confusion matrix. Default is True.\n",
    "    normalize:     If True, show the proportions for each category. Default is True.\n",
    "    cbar:          If True, show the color bar. The cbar values are based off the values in the confusion matrix.\n",
    "                   Default is True.\n",
    "    xyticks:       If True, show x and y ticks. Default is True.\n",
    "    xyplotlabels:  If True, show 'True Label' and 'Predicted Label' on the figure. Default is True.\n",
    "    sum_stats:     If True, display summary statistics below the figure. Default is True.\n",
    "    figsize:       Tuple representing the figure size. Default will be the matplotlib rcParams value.\n",
    "    cmap:          Colormap of the values displayed from matplotlib.pyplot.cm. Default is 'Blues'\n",
    "                   See http://matplotlib.org/examples/color/colormaps_reference.html\n",
    "                   \n",
    "    title:         Title for the heatmap. Default is None.\n",
    "    '''\n",
    "\n",
    "\n",
    "    # CODE TO GENERATE TEXT INSIDE EACH SQUARE\n",
    "    blanks = ['' for i in range(cf.size)]\n",
    "\n",
    "    if group_names and len(group_names)==cf.size:\n",
    "        group_labels = [\"{}\\n\".format(value) for value in group_names]\n",
    "    else:\n",
    "        group_labels = blanks\n",
    "\n",
    "    if count:\n",
    "        group_counts = [\"{0:0.0f}\\n\".format(value) for value in cf.flatten()]\n",
    "    else:\n",
    "        group_counts = blanks\n",
    "\n",
    "    if percent:\n",
    "        group_percentages = [\"{0:.2%}\".format(value) for value in cf.flatten()/np.sum(cf)]\n",
    "    else:\n",
    "        group_percentages = blanks\n",
    "\n",
    "    box_labels = [f\"{v1}{v2}{v3}\".strip() for v1, v2, v3 in zip(group_labels,group_counts,group_percentages)]\n",
    "    box_labels = np.asarray(box_labels).reshape(cf.shape[0],cf.shape[1])\n",
    "\n",
    "\n",
    "    # CODE TO GENERATE SUMMARY STATISTICS & TEXT FOR SUMMARY STATS\n",
    "    if sum_stats:\n",
    "        #Accuracy is sum of diagonal divided by total observations\n",
    "        accuracy  = np.trace(cf) / float(np.sum(cf))\n",
    "\n",
    "        #if it is a binary confusion matrix, show some more stats\n",
    "        if len(cf)==2:\n",
    "            #Metrics for Binary Confusion Matrices\n",
    "            precision = cf[1,1] / sum(cf[:,1])\n",
    "            recall    = cf[1,1] / sum(cf[1,:])\n",
    "            f1_score  = 2*precision*recall / (precision + recall)\n",
    "            stats_text = \"\\n\\nAccuracy={:0.3f}\\nPrecision={:0.3f}\\nRecall={:0.3f}\\nF1 Score={:0.3f}\".format(\n",
    "                accuracy,precision,recall,f1_score)\n",
    "        else:\n",
    "            stats_text = \"\\n\\nAccuracy={:0.3f}\".format(accuracy)\n",
    "    else:\n",
    "        stats_text = \"\"\n",
    "\n",
    "\n",
    "    # SET FIGURE PARAMETERS ACCORDING TO OTHER ARGUMENTS\n",
    "    if figsize==None:\n",
    "        #Get default figure size if not set\n",
    "        figsize = plt.rcParams.get('figure.figsize')\n",
    "\n",
    "    if xyticks==False:\n",
    "        #Do not show categories if xyticks is False\n",
    "        categories=False\n",
    "\n",
    "\n",
    "    # MAKE THE HEATMAP VISUALIZATION\n",
    "    plt.figure(figsize=figsize)\n",
    "    sns.heatmap(cf,annot=box_labels,fmt=\"\",cmap=cmap,cbar=cbar,xticklabels=categories,yticklabels=categories)\n",
    "\n",
    "    if xyplotlabels:\n",
    "        plt.ylabel('True label')\n",
    "        plt.xlabel('Predicted label' + stats_text)\n",
    "    else:\n",
    "        plt.xlabel(stats_text)\n",
    "    \n",
    "    if title:\n",
    "        plt.title(title)"
   ]
  },
  {
   "cell_type": "code",
   "execution_count": 87,
   "metadata": {},
   "outputs": [],
   "source": [
    "cf_matrix=confusion_matrix(test_target.argmax(axis=1),pred.argmax(axis=1))"
   ]
  },
  {
   "cell_type": "code",
   "execution_count": 88,
   "metadata": {},
   "outputs": [
    {
     "data": {
      "image/png": "[encoded data removed]",
      "text/plain": [
       "<Figure size 432x288 with 2 Axes>"
      ]
     },
     "metadata": {
      "needs_background": "light"
     },
     "output_type": "display_data"
    }
   ],
   "source": [
    "make_confusion_matrix(cf_matrix,categories=classes)"
   ]
  },
  {
   "cell_type": "code",
   "execution_count": null,
   "metadata": {},
   "outputs": [],
   "source": []
  }
 ],
 "metadata": {
  "kernelspec": {
   "display_name": "Python 3",
   "language": "python",
   "name": "python3"
  },
  "language_info": {
   "codemirror_mode": {
    "name": "ipython",
    "version": 3
   },
   "file_extension": ".py",
   "mimetype": "text/x-python",
   "name": "python",
   "nbconvert_exporter": "python",
   "pygments_lexer": "ipython3",
   "version": "3.8.3"
  }
 },
 "nbformat": 4,
 "nbformat_minor": 4
}
